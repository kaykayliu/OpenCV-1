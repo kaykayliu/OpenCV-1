{
 "cells": [
  {
   "cell_type": "markdown",
   "metadata": {},
   "source": [
    "# 对图像进行二值化"
   ]
  },
  {
   "cell_type": "markdown",
   "metadata": {},
   "source": [
    "## 1. 固定值阈值方式"
   ]
  },
  {
   "cell_type": "markdown",
   "metadata": {},
   "source": [
    "* Python-OpenCV中提供了阈值（threshold）函数：\n",
    "\n",
    "* threshold(src, thresh, maxval, type, dst=None)\n",
    "\n",
    "* 函数：第一个参数       src         指原图像，原图像应该是灰度图。\n",
    "\n",
    "     第二个参数       thresh        指用来对像素值进行分类的阈值。\n",
    "\n",
    "     第三个参数       maxval        指当像素值高于（有时是小于）阈值时应该被赋予的新的像素值\n",
    "\n",
    "     第四个参数       type         指不同的不同的阈值方法，这些方法包括：\n",
    "                                                       cv2.THRESH_BINARY（黑白二值） \n",
    "                                                       cv2.THRESH_BINARY_INV（黑白二值反转） \n",
    "                                                       cv2.THRESH_TRUNC （得到的图像为多像素值） \n",
    "                                                       cv2.THRESH_TOZERO \n",
    "                                                       cv2.THRESH_TOZERO_INV \n",
    "                                                       cv2.THRESH_OTSU  (自动选择阈值的方式)"
   ]
  },
  {
   "cell_type": "markdown",
   "metadata": {},
   "source": [
    "## 2. 自适应阈值方式"
   ]
  },
  {
   "cell_type": "markdown",
   "metadata": {},
   "source": [
    "dst = cv2.adaptiveThreshold(src, maxval, thresh_type, type, Block Size, C)\n",
    "\n",
    "*    src： 输入图，只能输入单通道图像，通常来说为灰度图\n",
    "*    dst： 输出图\n",
    "*    maxval： 当像素值超过了阈值（或者小于阈值，根据type来决定），所赋予的值\n",
    "*    thresh_type： 阈值的计算方法，包含以下2种类型：cv2.ADAPTIVE_THRESH_MEAN_C； cv2.ADAPTIVE_THRESH_GAUSSIAN_C.\n",
    "*    type：二值化操作的类型，与固定阈值函数相同，包含以下5种类型： cv2.THRESH_BINARY； cv2.THRESH_BINARY_INV； cv2.THRESH_TRUNC； cv2.THRESH_TOZERO；cv2.THRESH_TOZERO_INV.\n",
    "*    Block Size： 图片中分块的大小\n",
    "*    C ：阈值计算方法中的常数项\n",
    "\n"
   ]
  },
  {
   "cell_type": "markdown",
   "metadata": {},
   "source": [
    "### 固定阈值方式"
   ]
  },
  {
   "cell_type": "code",
   "execution_count": 10,
   "metadata": {
    "collapsed": true
   },
   "outputs": [],
   "source": [
    "#导入opencv库\n",
    "import cv2\n",
    "import numpy as np\n",
    "\n",
    "#读取图片\n",
    "image = cv2.imread('./input/road.jpg')    \n",
    "\n",
    "cv2.imshow('original',image)\n",
    "#灰度处理\n",
    "im_gray = cv2.cvtColor(image, cv2.COLOR_BGR2GRAY)\n",
    "#cv2.imshow(\"outPutGray\", im_gray)\n",
    "ab,thresh =cv2.threshold(im_gray,180,255,cv2.THRESH_BINARY_INV) \n",
    "cv2.imshow('outPutBinaay',thresh)\n",
    "\n",
    "\n",
    "cv2.waitKey()\n",
    "cv2.destroyAllWindows()\n"
   ]
  },
  {
   "cell_type": "markdown",
   "metadata": {},
   "source": [
    "### Otsu法"
   ]
  },
  {
   "cell_type": "code",
   "execution_count": 9,
   "metadata": {},
   "outputs": [],
   "source": [
    "import cv2  \n",
    "import os  \n",
    "\n",
    "img = cv2.imread('./input/road.jpg')  \n",
    "\n",
    "gray = cv2.cvtColor(img, cv2.COLOR_BGR2GRAY)  \n",
    "retval, dst = cv2.threshold(gray, 0, 255, cv2.THRESH_OTSU)  \n",
    "\n",
    "cv2.imshow(\"src\", img)  \n",
    "cv2.imshow(\"gray\", gray)  \n",
    "cv2.imshow(\"dst\", dst)  \n",
    "\n",
    "cv2.waitKey()  \n",
    "cv2.destroyAllWindows()"
   ]
  },
  {
   "cell_type": "markdown",
   "metadata": {},
   "source": [
    "### 自适应阈值方式"
   ]
  },
  {
   "cell_type": "code",
   "execution_count": null,
   "metadata": {
    "collapsed": true
   },
   "outputs": [],
   "source": [
    "#导入opencv库\n",
    "import cv2\n",
    "import numpy as np"
   ]
  },
  {
   "cell_type": "code",
   "execution_count": null,
   "metadata": {
    "collapsed": true
   },
   "outputs": [],
   "source": [
    "#读取图片\n",
    "image = cv2.imread('./input/road.jpg')    \n",
    "cv2.imshow(\"original\", image)\n",
    "\n",
    "#灰度处理\n",
    "im_gray = cv2.cvtColor(image, cv2.COLOR_BGR2GRAY)\n",
    "#cv2.imshow(\"outPutGray\", im_gray)\n",
    "thresh=cv2.adaptiveThreshold(im_gray,255,cv2.ADAPTIVE_THRESH_MEAN_C,cv2.THRESH_BINARY,21,2)\n",
    "cv2.imshow('outPutBinaay',thresh)\n",
    "\n",
    "cv2.waitKey() \n",
    "cv2.destroyAllWindows()\n"
   ]
  },
  {
   "cell_type": "code",
   "execution_count": null,
   "metadata": {
    "collapsed": true
   },
   "outputs": [],
   "source": []
  }
 ],
 "metadata": {
  "kernelspec": {
   "display_name": "Python 3",
   "language": "python",
   "name": "python3"
  },
  "language_info": {
   "codemirror_mode": {
    "name": "ipython",
    "version": 3
   },
   "file_extension": ".py",
   "mimetype": "text/x-python",
   "name": "python",
   "nbconvert_exporter": "python",
   "pygments_lexer": "ipython3",
   "version": "3.6.3"
  }
 },
 "nbformat": 4,
 "nbformat_minor": 2
}
